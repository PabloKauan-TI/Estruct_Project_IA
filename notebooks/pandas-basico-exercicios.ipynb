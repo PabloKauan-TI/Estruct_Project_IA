{
  "cells": [
    {
      "cell_type": "markdown",
      "id": "fffdf0e2",
      "metadata": {},
      "source": [
        "# Exercícios Básicos e pandas\n",
        "Este notebook contém uma série de exercícios separados por blocos. Cada seção traz enunciados em células Markdown e, em seguida, uma célula de código em branco para sua solução.\n",
        "\n",
        "> Dica: Crie um `DataFrame` de exemplo e teste os métodos. Evite pular de seção sem tentar executar algo prático."
      ]
    },
    {
      "cell_type": "code",
      "execution_count": 3,
      "id": "f6bc7ec5",
      "metadata": {},
      "outputs": [
        {
          "name": "stdout",
          "output_type": "stream",
          "text": [
            "2.3.2\n"
          ]
        }
      ],
      "source": [
        "import pandas as pd\n",
        "import numpy as np\n",
        "from io import StringIO\n",
        "print(pd.__version__)"
      ]
    },
    {
      "cell_type": "markdown",
      "id": "966b7937",
      "metadata": {},
      "source": [
        "## 1) séries e objetos básicos\n"
      ]
    },
    {
      "cell_type": "markdown",
      "id": "ab693719",
      "metadata": {},
      "source": [
        "\n",
        "1. crie uma `pd.Series` a partir de uma lista `[10, 20, 30]` e verifique `dtype`."
      ]
    },
    {
      "cell_type": "code",
      "execution_count": null,
      "id": "e02f8bf2",
      "metadata": {},
      "outputs": [
        {
          "name": "stdout",
          "output_type": "stream",
          "text": [
            "0    10\n",
            "1    20\n",
            "2    30\n",
            "dtype: int64\n",
            "Dtype: int64\n"
          ]
        }
      ],
      "source": [
        "s_ex = pd.Series([10, 20, 30])\n",
        "print(s_ex)"
      ]
    },
    {
      "cell_type": "markdown",
      "id": "888402a6",
      "metadata": {},
      "source": [
        "2. defina índices personalizados `['a','b','c']` para a série do exercício anterior."
      ]
    },
    {
      "cell_type": "code",
      "execution_count": 5,
      "id": "a0f38276",
      "metadata": {},
      "outputs": [
        {
          "name": "stdout",
          "output_type": "stream",
          "text": [
            "a    10\n",
            "b    20\n",
            "c    30\n",
            "dtype: int64\n"
          ]
        }
      ],
      "source": [
        "s_ex.index = ['a', 'b', 'c']\n",
        "print(s_ex)"
      ]
    },
    {
      "cell_type": "markdown",
      "id": "965a574e",
      "metadata": {},
      "source": [
        "3. obtenha o valor associado ao índice `'b'`."
      ]
    },
    {
      "cell_type": "code",
      "execution_count": 6,
      "id": "226d2fa6",
      "metadata": {},
      "outputs": [
        {
          "name": "stdout",
          "output_type": "stream",
          "text": [
            "20\n"
          ]
        }
      ],
      "source": [
        "print(s_ex['b'])"
      ]
    },
    {
      "cell_type": "markdown",
      "id": "7456c85d",
      "metadata": {},
      "source": [
        "4. verifique se 20 está presente na série (retorne booleano).\n"
      ]
    },
    {
      "cell_type": "code",
      "execution_count": 7,
      "id": "e0ce8612",
      "metadata": {},
      "outputs": [
        {
          "name": "stdout",
          "output_type": "stream",
          "text": [
            "True\n"
          ]
        }
      ],
      "source": [
        "print(20 in s_ex.values)"
      ]
    },
    {
      "cell_type": "markdown",
      "id": "76adeb26",
      "metadata": {},
      "source": [
        "5. some todos os valores da série.\n"
      ]
    },
    {
      "cell_type": "code",
      "execution_count": 8,
      "id": "68f534fb",
      "metadata": {},
      "outputs": [
        {
          "name": "stdout",
          "output_type": "stream",
          "text": [
            "60\n"
          ]
        }
      ],
      "source": [
        "print(s_ex.sum())"
      ]
    },
    {
      "cell_type": "markdown",
      "id": "84220303",
      "metadata": {},
      "source": [
        "6. calcule média, mínimo e máximo da série.\n"
      ]
    },
    {
      "cell_type": "code",
      "execution_count": 9,
      "id": "02720ee3",
      "metadata": {},
      "outputs": [
        {
          "name": "stdout",
          "output_type": "stream",
          "text": [
            "Média: 20.0\n",
            "Mínimo: 10\n",
            "Máximo: 30\n"
          ]
        }
      ],
      "source": [
        "print(\"Média:\", s_ex.mean())\n",
        "print(\"Mínimo:\", s_ex.min())\n",
        "print(\"Máximo:\", s_ex.max())"
      ]
    },
    {
      "cell_type": "markdown",
      "id": "f010c2c2",
      "metadata": {},
      "source": [
        "7. converta a série para `float`.\n"
      ]
    },
    {
      "cell_type": "code",
      "execution_count": 11,
      "id": "4f5a2a5b",
      "metadata": {},
      "outputs": [
        {
          "name": "stdout",
          "output_type": "stream",
          "text": [
            "a    10.0\n",
            "b    20.0\n",
            "c    30.0\n",
            "dtype: float64\n"
          ]
        }
      ],
      "source": [
        "s_float = s_ex.astype(float)\n",
        "print(s_float)"
      ]
    },
    {
      "cell_type": "markdown",
      "id": "d4b0e0d4",
      "metadata": {},
      "source": [
        "8. substitua o valor do índice `'c'` por 35.\n"
      ]
    },
    {
      "cell_type": "code",
      "execution_count": 13,
      "id": "1cb7af9a",
      "metadata": {},
      "outputs": [
        {
          "name": "stdout",
          "output_type": "stream",
          "text": [
            "a    10.0\n",
            "b    20.0\n",
            "c    35.0\n",
            "dtype: float64\n"
          ]
        }
      ],
      "source": [
        "s_float['c'] = 35\n",
        "print(s_float)"
      ]
    },
    {
      "cell_type": "markdown",
      "id": "215d3a35",
      "metadata": {},
      "source": [
        "9. Importe a biblioteca numpy (`import numpy as np`) e crie uma series ao aplicar `np.log` à série (tratando possíveis avisos do pandas).\n"
      ]
    },
    {
      "cell_type": "code",
      "execution_count": 14,
      "id": "1e55993a",
      "metadata": {},
      "outputs": [
        {
          "name": "stdout",
          "output_type": "stream",
          "text": [
            "a    2.302585\n",
            "b    2.995732\n",
            "c    3.401197\n",
            "dtype: float64\n"
          ]
        }
      ],
      "source": [
        "s_log = np.log(s_ex)\n",
        "print(s_log)"
      ]
    },
    {
      "cell_type": "markdown",
      "id": "3e801498",
      "metadata": {},
      "source": [
        "\n",
        "10. transforme a série em DataFrame com uma coluna chamada `valor`."
      ]
    },
    {
      "cell_type": "code",
      "execution_count": 15,
      "id": "10d2f91d",
      "metadata": {},
      "outputs": [
        {
          "name": "stdout",
          "output_type": "stream",
          "text": [
            "   valor\n",
            "a     10\n",
            "b     20\n",
            "c     30\n"
          ]
        }
      ],
      "source": [
        "df_ex_series = s_ex.to_frame(name='valor')\n",
        "print(df_ex_series)"
      ]
    },
    {
      "cell_type": "markdown",
      "id": "c4f1e552",
      "metadata": {},
      "source": [
        "## 2) criação de dataframes & I/O"
      ]
    },
    {
      "cell_type": "markdown",
      "id": "7fa6ea59",
      "metadata": {},
      "source": [
        "11. crie um `DataFrame` com colunas `['nome','idade']` a partir de um dicionário.\n"
      ]
    },
    {
      "cell_type": "code",
      "execution_count": 16,
      "id": "29a42a20",
      "metadata": {},
      "outputs": [
        {
          "name": "stdout",
          "output_type": "stream",
          "text": [
            "      nome  idade\n",
            "0    Alice     25\n",
            "1      Bob     30\n",
            "2  Charlie     22\n",
            "3    David     40\n",
            "4      Eva     29\n"
          ]
        }
      ],
      "source": [
        "data_ex11 = {\n",
        "    'nome': ['Alice', 'Bob', 'Charlie', 'David', 'Eva'],\n",
        "    'idade': [25, 30, 22, 40, 29]\n",
        "}\n",
        "df_ex11 = pd.DataFrame(data_ex11)\n",
        "print(df_ex11)"
      ]
    },
    {
      "cell_type": "markdown",
      "id": "b2fe211d",
      "metadata": {},
      "source": [
        "12. leia um CSV simples (`data1.csv` ou crie um usando `StringIO`) e mostre as 3 primeiras linhas."
      ]
    },
    {
      "cell_type": "code",
      "execution_count": 18,
      "id": "f3cca6c2",
      "metadata": {},
      "outputs": [
        {
          "name": "stdout",
          "output_type": "stream",
          "text": [
            "\n",
            "3 primeiras linhas:\n",
            "    id   nome  idade cidade              email    status  salario departamento  \\\n",
            "0   1    Ana     17     SP    ana@example.com     ativo     4500           TI   \n",
            "1   2  Bruno     22     RJ  bruno@example.com  pendente     5200    Marketing   \n",
            "2   3  Carla     35     BH  carla@example.com     ativo     7000           TI   \n",
            "\n",
            "  categoria produto  valor  preco  nota        data    regiao  vendas  \\\n",
            "0         A      P1    120   49.9   8.5  2025-01-01       Sul      10   \n",
            "1         B      P2     80   29.5   7.2  2025-01-02   Sudeste       7   \n",
            "2         A      P3    200   99.0   9.0  2025-01-03  Nordeste      15   \n",
            "\n",
            "   tempo_resposta  \n",
            "0              34  \n",
            "1              58  \n",
            "2              22  \n"
          ]
        }
      ],
      "source": [
        "df_data1 = pd.read_csv(\"../data/data1.csv\")\n",
        "#print(\"DataFrame completo (data1):\\n\", df_data1)\n",
        "print(\"\\n3 primeiras linhas:\\n\", df_data1.head(3))"
      ]
    },
    {
      "cell_type": "markdown",
      "id": "5a16b1bc",
      "metadata": {},
      "source": [
        "13. salve um DataFrame em CSV sem índice (pode ser o criado no exercício 11)."
      ]
    },
    {
      "cell_type": "code",
      "execution_count": null,
      "id": "f52155f2",
      "metadata": {},
      "outputs": [
        {
          "name": "stdout",
          "output_type": "stream",
          "text": [
            "Conteúdo CSV (sem índice):\n",
            " nome,idade\n",
            "Alice,25\n",
            "Bob,30\n",
            "Charlie,22\n",
            "David,40\n",
            "Eva,29\n",
            "\n"
          ]
        }
      ],
      "source": [
        "csv_output = StringIO()\n",
        "df_ex11.to_csv(csv_output, index=False)\n",
        "\n",
        "print(\"Conteúdo CSV (sem índice):\\n\", csv_output.getvalue())"
      ]
    },
    {
      "cell_type": "markdown",
      "id": "80ee3132",
      "metadata": {},
      "source": [
        "14. leia um arquivo CSV (`data1.csv`) e especifique a coluna `id` como índice.\n"
      ]
    },
    {
      "cell_type": "code",
      "execution_count": 22,
      "id": "0f207d53",
      "metadata": {},
      "outputs": [
        {
          "name": "stdout",
          "output_type": "stream",
          "text": [
            "   nome  idade cidade            email status  salario departamento categoria  \\\n",
            "id                                                                              \n",
            "1   Ana     17     SP  ana@example.com  ativo     4500           TI         A   \n",
            "\n",
            "   produto  valor  preco  nota        data regiao  vendas  tempo_resposta  \n",
            "id                                                                         \n",
            "1       P1    120   49.9   8.5  2025-01-01    Sul      10              34  \n"
          ]
        }
      ],
      "source": [
        "df_data1_indexed = pd.read_csv(\"../data/data1.csv\", index_col='id')\n",
        "print(df_data1_indexed.head(1))"
      ]
    },
    {
      "cell_type": "markdown",
      "id": "0b4787ba",
      "metadata": {},
      "source": [
        "15. crie um DataFrame com datas usando `pd.date_range` (7 dias) e uma coluna numérica aleatória. Dica: use a função random.randint do numpy.\n"
      ]
    },
    {
      "cell_type": "code",
      "execution_count": 23,
      "id": "0250f581",
      "metadata": {},
      "outputs": [
        {
          "name": "stdout",
          "output_type": "stream",
          "text": [
            "            valor_aleatorio\n",
            "data                       \n",
            "2025-01-01               90\n",
            "2025-01-02               55\n",
            "2025-01-03               54\n",
            "2025-01-04               65\n",
            "2025-01-05               32\n",
            "2025-01-06               71\n",
            "2025-01-07               67\n"
          ]
        }
      ],
      "source": [
        "dates = pd.date_range(start='2025-01-01', periods=7)\n",
        "random_values = np.random.randint(10, 100, size=7)\n",
        "\n",
        "df_dates = pd.DataFrame({\n",
        "    'data': dates,\n",
        "    'valor_aleatorio': random_values\n",
        "})\n",
        "df_dates = df_dates.set_index('data')\n",
        "print(df_dates)\n"
      ]
    },
    {
      "cell_type": "markdown",
      "id": "9d8c7836",
      "metadata": {},
      "source": [
        "16. É possível criar um DataFrame a partir de uma lista dicionários em Python. Crie a menos dois dicionários diferentes, com nomes de colunas em maiúsculo e crie um DataFrame onde cada coluna é um desses dicionários."
      ]
    },
    {
      "cell_type": "code",
      "execution_count": 24,
      "id": "e4428419",
      "metadata": {},
      "outputs": [
        {
          "name": "stdout",
          "output_type": "stream",
          "text": [
            "   ID     NOME  NOTA\n",
            "0   1    Pedro   9.5\n",
            "1   2  Mariana   8.0\n",
            "2   3    Lucas   7.2\n",
            "3   4    Julia  10.0\n"
          ]
        }
      ],
      "source": [
        "data_list = [\n",
        "    {'ID': 1, 'NOME': 'Pedro', 'NOTA': 9.5},\n",
        "    {'ID': 2, 'NOME': 'Mariana', 'NOTA': 8.0},\n",
        "    {'ID': 3, 'NOME': 'Lucas', 'NOTA': 7.2},\n",
        "    {'ID': 4, 'NOME': 'Julia', 'NOTA': 10.0}\n",
        "]\n",
        "\n",
        "df_caps = pd.DataFrame(data_list)\n",
        "print(df_caps)"
      ]
    },
    {
      "cell_type": "markdown",
      "id": "8f2ee569",
      "metadata": {},
      "source": [
        "17. Renomeie as colunas para minúsculas do exercício 16 para minúsculas\n"
      ]
    },
    {
      "cell_type": "code",
      "execution_count": 25,
      "id": "d246a2e8",
      "metadata": {},
      "outputs": [
        {
          "name": "stdout",
          "output_type": "stream",
          "text": [
            "   id     nome  nota\n",
            "0   1    Pedro   9.5\n",
            "1   2  Mariana   8.0\n",
            "2   3    Lucas   7.2\n",
            "3   4    Julia  10.0\n"
          ]
        }
      ],
      "source": [
        "df_lower = df_caps.rename(columns=str.lower)\n",
        "print(df_lower)"
      ]
    },
    {
      "cell_type": "markdown",
      "id": "8d6cfb2d",
      "metadata": {},
      "source": [
        "18. altere a ordem das colunas do dataframe.\n"
      ]
    },
    {
      "cell_type": "code",
      "execution_count": 26,
      "id": "e3052c08",
      "metadata": {},
      "outputs": [
        {
          "name": "stdout",
          "output_type": "stream",
          "text": [
            "      nome  id  nota\n",
            "0    Pedro   1   9.5\n",
            "1  Mariana   2   8.0\n",
            "2    Lucas   3   7.2\n",
            "3    Julia   4  10.0\n"
          ]
        }
      ],
      "source": [
        "new_order = ['nome', 'id', 'nota']\n",
        "df_reordered = df_lower[new_order]\n",
        "print(df_reordered)"
      ]
    },
    {
      "cell_type": "markdown",
      "id": "98cde883",
      "metadata": {},
      "source": [
        "19. crie uma coluna derivada: `idade_em_meses = idade * 12` a partir dos dados do exercício 14.\n"
      ]
    },
    {
      "cell_type": "code",
      "execution_count": 27,
      "id": "d935e2fa",
      "metadata": {},
      "outputs": [
        {
          "name": "stdout",
          "output_type": "stream",
          "text": [
            "      nome  idade cidade               email    status  salario departamento  \\\n",
            "id                                                                             \n",
            "1      Ana     17     SP     ana@example.com     ativo     4500           TI   \n",
            "2    Bruno     22     RJ   bruno@example.com  pendente     5200    Marketing   \n",
            "3    Carla     35     BH   carla@example.com     ativo     7000           TI   \n",
            "4    Diego     28     SP                 NaN   inativo     3000       Vendas   \n",
            "5   Elaine     41    POA  elaine@example.com     ativo     9800    Diretoria   \n",
            "\n",
            "   categoria produto  valor  preco  nota        data        regiao  vendas  \\\n",
            "id                                                                           \n",
            "1          A      P1    120   49.9   8.5  2025-01-01           Sul      10   \n",
            "2          B      P2     80   29.5   7.2  2025-01-02       Sudeste       7   \n",
            "3          A      P3    200   99.0   9.0  2025-01-03      Nordeste      15   \n",
            "4          C      P4     50   15.0   6.1  2025-01-04  Centro-Oeste       4   \n",
            "5          B      P2    350  150.0   9.3  2025-01-05           Sul      20   \n",
            "\n",
            "    tempo_resposta  idade_em_meses  \n",
            "id                                  \n",
            "1               34             204  \n",
            "2               58             264  \n",
            "3               22             420  \n",
            "4              120             336  \n",
            "5               15             492  \n"
          ]
        }
      ],
      "source": [
        "df_data1_indexed['idade_em_meses'] = df_data1_indexed['idade'] * 12\n",
        "print(df_data1_indexed.head())"
      ]
    },
    {
      "cell_type": "markdown",
      "id": "4b5021a9",
      "metadata": {},
      "source": [
        "20. verifique a forma (`shape`) e o tamanho (`size`) do DataFrame."
      ]
    },
    {
      "cell_type": "code",
      "execution_count": 28,
      "id": "a40ce346",
      "metadata": {},
      "outputs": [
        {
          "name": "stdout",
          "output_type": "stream",
          "text": [
            "Shape (linhas, colunas): (12, 17)\n",
            "Size (total de elementos): 204\n"
          ]
        }
      ],
      "source": [
        "print(\"Shape (linhas, colunas):\", df_data1_indexed.shape)\n",
        "print(\"Size (total de elementos):\", df_data1_indexed.size)"
      ]
    },
    {
      "cell_type": "markdown",
      "id": "455c5c23",
      "metadata": {},
      "source": [
        "## 3) indexação e seleção (Utilize os dados da coluna 14)"
      ]
    },
    {
      "cell_type": "markdown",
      "id": "f635d5f9",
      "metadata": {},
      "source": [
        "21. selecione apenas a coluna `idade` (como `Series` e como `DataFrame`)."
      ]
    },
    {
      "cell_type": "code",
      "execution_count": 29,
      "id": "6d8013cf",
      "metadata": {},
      "outputs": [
        {
          "name": "stdout",
          "output_type": "stream",
          "text": [
            "Idade (Series):\n",
            " id\n",
            "1    17\n",
            "2    22\n",
            "3    35\n",
            "4    28\n",
            "5    41\n",
            "Name: idade, dtype: int64\n",
            "\n",
            "Idade (DataFrame):\n",
            "     idade\n",
            "id       \n",
            "1      17\n",
            "2      22\n",
            "3      35\n",
            "4      28\n",
            "5      41\n"
          ]
        }
      ],
      "source": [
        "# Como Series\n",
        "idade_series = df_data1_indexed['idade']\n",
        "print(\"Idade (Series):\\n\", idade_series.head())\n",
        "\n",
        "# Como DataFrame\n",
        "idade_df = df_data1_indexed[['idade']]\n",
        "print(\"\\nIdade (DataFrame):\\n\", idade_df.head())"
      ]
    },
    {
      "cell_type": "markdown",
      "id": "3e9de9a7",
      "metadata": {},
      "source": [
        "22. selecione linhas pelas posições 0 a 2 (usando `iloc`)."
      ]
    },
    {
      "cell_type": "code",
      "execution_count": 30,
      "id": "85f36c94",
      "metadata": {},
      "outputs": [
        {
          "name": "stdout",
          "output_type": "stream",
          "text": [
            "     nome  idade cidade              email    status  salario departamento  \\\n",
            "id                                                                           \n",
            "1     Ana     17     SP    ana@example.com     ativo     4500           TI   \n",
            "2   Bruno     22     RJ  bruno@example.com  pendente     5200    Marketing   \n",
            "3   Carla     35     BH  carla@example.com     ativo     7000           TI   \n",
            "\n",
            "   categoria produto  valor  preco  nota        data    regiao  vendas  \\\n",
            "id                                                                       \n",
            "1          A      P1    120   49.9   8.5  2025-01-01       Sul      10   \n",
            "2          B      P2     80   29.5   7.2  2025-01-02   Sudeste       7   \n",
            "3          A      P3    200   99.0   9.0  2025-01-03  Nordeste      15   \n",
            "\n",
            "    tempo_resposta  idade_em_meses  \n",
            "id                                  \n",
            "1               34             204  \n",
            "2               58             264  \n",
            "3               22             420  \n"
          ]
        }
      ],
      "source": [
        "# As linhas de posição 0, 1 e 2 (exclusivo no final)\n",
        "linhas_0_a_2_iloc = df_data1_indexed.iloc[0:3]\n",
        "print(linhas_0_a_2_iloc)"
      ]
    },
    {
      "cell_type": "markdown",
      "id": "146cbe41",
      "metadata": {},
      "source": [
        "23. selecione a linda onde o índice é 4 (usando `loc`)."
      ]
    },
    {
      "cell_type": "code",
      "execution_count": 31,
      "id": "0755b4e0",
      "metadata": {},
      "outputs": [
        {
          "name": "stdout",
          "output_type": "stream",
          "text": [
            "nome                     Diego\n",
            "idade                       28\n",
            "cidade                      SP\n",
            "email                      NaN\n",
            "status                 inativo\n",
            "salario                   3000\n",
            "departamento            Vendas\n",
            "categoria                    C\n",
            "produto                     P4\n",
            "valor                       50\n",
            "preco                     15.0\n",
            "nota                       6.1\n",
            "data                2025-01-04\n",
            "regiao            Centro-Oeste\n",
            "vendas                       4\n",
            "tempo_resposta             120\n",
            "idade_em_meses             336\n",
            "Name: 4, dtype: object\n"
          ]
        }
      ],
      "source": [
        "linha_4_loc = df_data1_indexed.loc[4]\n",
        "print(linha_4_loc)"
      ]
    },
    {
      "cell_type": "markdown",
      "id": "c430a579",
      "metadata": {},
      "source": [
        "24. selecione um bloco retangular (linhas 1–3, colunas 0–1) com `iloc`."
      ]
    },
    {
      "cell_type": "code",
      "execution_count": 32,
      "id": "234b1011",
      "metadata": {},
      "outputs": [
        {
          "name": "stdout",
          "output_type": "stream",
          "text": [
            "     nome  idade\n",
            "id              \n",
            "2   Bruno     22\n",
            "3   Carla     35\n",
            "4   Diego     28\n"
          ]
        }
      ],
      "source": [
        "bloco_iloc = df_data1_indexed.iloc[1:4, 0:2]\n",
        "print(bloco_iloc)"
      ]
    },
    {
      "cell_type": "markdown",
      "id": "093d159b",
      "metadata": {},
      "source": [
        "25. mude o índice do conjunto de dados para a coluna `nome`.\n"
      ]
    },
    {
      "cell_type": "code",
      "execution_count": 33,
      "id": "6f9fbea0",
      "metadata": {},
      "outputs": [
        {
          "name": "stdout",
          "output_type": "stream",
          "text": [
            "        idade cidade               email    status  salario departamento  \\\n",
            "nome                                                                       \n",
            "Ana        17     SP     ana@example.com     ativo     4500           TI   \n",
            "Bruno      22     RJ   bruno@example.com  pendente     5200    Marketing   \n",
            "Carla      35     BH   carla@example.com     ativo     7000           TI   \n",
            "Diego      28     SP                 NaN   inativo     3000       Vendas   \n",
            "Elaine     41    POA  elaine@example.com     ativo     9800    Diretoria   \n",
            "\n",
            "       categoria produto  valor  preco  nota        data        regiao  \\\n",
            "nome                                                                     \n",
            "Ana            A      P1    120   49.9   8.5  2025-01-01           Sul   \n",
            "Bruno          B      P2     80   29.5   7.2  2025-01-02       Sudeste   \n",
            "Carla          A      P3    200   99.0   9.0  2025-01-03      Nordeste   \n",
            "Diego          C      P4     50   15.0   6.1  2025-01-04  Centro-Oeste   \n",
            "Elaine         B      P2    350  150.0   9.3  2025-01-05           Sul   \n",
            "\n",
            "        vendas  tempo_resposta  idade_em_meses  \n",
            "nome                                            \n",
            "Ana         10              34             204  \n",
            "Bruno        7              58             264  \n",
            "Carla       15              22             420  \n",
            "Diego        4             120             336  \n",
            "Elaine      20              15             492  \n"
          ]
        }
      ],
      "source": [
        "df_data1_nome_indexed = df_data1_indexed.set_index('nome')\n",
        "print(df_data1_nome_indexed.head())"
      ]
    },
    {
      "cell_type": "markdown",
      "id": "c6b023e0",
      "metadata": {},
      "source": [
        "26. resete o índice para o padrão sequencial."
      ]
    },
    {
      "cell_type": "code",
      "execution_count": 34,
      "id": "c0fc7840",
      "metadata": {},
      "outputs": [
        {
          "name": "stdout",
          "output_type": "stream",
          "text": [
            "     nome  idade cidade               email    status  salario departamento  \\\n",
            "0     Ana     17     SP     ana@example.com     ativo     4500           TI   \n",
            "1   Bruno     22     RJ   bruno@example.com  pendente     5200    Marketing   \n",
            "2   Carla     35     BH   carla@example.com     ativo     7000           TI   \n",
            "3   Diego     28     SP                 NaN   inativo     3000       Vendas   \n",
            "4  Elaine     41    POA  elaine@example.com     ativo     9800    Diretoria   \n",
            "\n",
            "  categoria produto  valor  preco  nota        data        regiao  vendas  \\\n",
            "0         A      P1    120   49.9   8.5  2025-01-01           Sul      10   \n",
            "1         B      P2     80   29.5   7.2  2025-01-02       Sudeste       7   \n",
            "2         A      P3    200   99.0   9.0  2025-01-03      Nordeste      15   \n",
            "3         C      P4     50   15.0   6.1  2025-01-04  Centro-Oeste       4   \n",
            "4         B      P2    350  150.0   9.3  2025-01-05           Sul      20   \n",
            "\n",
            "   tempo_resposta  idade_em_meses  \n",
            "0              34             204  \n",
            "1              58             264  \n",
            "2              22             420  \n",
            "3             120             336  \n",
            "4              15             492  \n"
          ]
        }
      ],
      "source": [
        "df_data1_reset = df_data1_nome_indexed.reset_index()\n",
        "print(df_data1_reset.head())"
      ]
    },
    {
      "cell_type": "markdown",
      "id": "03db9c04",
      "metadata": {},
      "source": [
        "27. selecione linhas por rótulo com **slice** em `loc` (ex.: `'2025-01-01':'2025-01-05'`).\n"
      ]
    },
    {
      "cell_type": "code",
      "execution_count": 35,
      "id": "f6284174",
      "metadata": {},
      "outputs": [
        {
          "name": "stdout",
          "output_type": "stream",
          "text": [
            "            valor_aleatorio\n",
            "data                       \n",
            "2025-01-01               90\n",
            "2025-01-02               55\n",
            "2025-01-03               54\n",
            "2025-01-04               65\n",
            "2025-01-05               32\n"
          ]
        }
      ],
      "source": [
        "slice_loc = df_dates.loc['2025-01-01':'2025-01-05']\n",
        "print(slice_loc)"
      ]
    },
    {
      "cell_type": "markdown",
      "id": "aa2ad144",
      "metadata": {},
      "source": [
        "28. pegue os 5 maiores valores de uma coluna com `nlargest`.\n"
      ]
    },
    {
      "cell_type": "code",
      "execution_count": 36,
      "id": "667bb162",
      "metadata": {},
      "outputs": [
        {
          "name": "stdout",
          "output_type": "stream",
          "text": [
            "      nome  idade\n",
            "id               \n",
            "12     Leo     45\n",
            "5   Elaine     41\n",
            "3    Carla     35\n",
            "8     Hugo     33\n",
            "11   Karen     29\n"
          ]
        }
      ],
      "source": [
        "top_5_idade = df_data1_indexed.nlargest(5, 'idade')\n",
        "print(top_5_idade[['nome', 'idade']])"
      ]
    },
    {
      "cell_type": "markdown",
      "id": "2f305aba",
      "metadata": {},
      "source": [
        "29. Crie um DataFrame contendo apenas as colunas numéricas usando data.select_dtypes(include=\"number\").\n"
      ]
    },
    {
      "cell_type": "code",
      "execution_count": 37,
      "id": "aa3feddd",
      "metadata": {},
      "outputs": [
        {
          "name": "stdout",
          "output_type": "stream",
          "text": [
            "    idade  salario  valor  preco  nota  vendas  tempo_resposta  idade_em_meses\n",
            "id                                                                            \n",
            "1      17     4500    120   49.9   8.5      10              34             204\n",
            "2      22     5200     80   29.5   7.2       7              58             264\n",
            "3      35     7000    200   99.0   9.0      15              22             420\n",
            "4      28     3000     50   15.0   6.1       4             120             336\n",
            "5      41     9800    350  150.0   9.3      20              15             492\n",
            "6      19     2800     60   12.0   5.4       3             180             228\n",
            "7      24     5100     90   25.0   7.9       6              45             288\n",
            "8      33        0      0    0.0   4.8       0             300             396\n",
            "9      26     6100    175   75.5   8.1       9              60             312\n",
            "10     16     2100     40    9.5   5.9       2             240             192\n",
            "11     29     5400    130   55.0   8.7      11              38             348\n",
            "12     45    12000    500  200.0   9.8      25              12             540\n"
          ]
        }
      ],
      "source": [
        "df_numerico = df_data1_indexed.select_dtypes(include=\"number\")\n",
        "print(df_numerico)"
      ]
    },
    {
      "cell_type": "markdown",
      "id": "84f9295b",
      "metadata": {},
      "source": [
        "30. selecione as linhas em que nota está entre 7 e 9 (inclusive) usando between, retornando apenas as colunas ['nome','nota']."
      ]
    },
    {
      "cell_type": "code",
      "execution_count": 38,
      "id": "779866cd",
      "metadata": {},
      "outputs": [
        {
          "name": "stdout",
          "output_type": "stream",
          "text": [
            "     nome  nota\n",
            "id             \n",
            "1     Ana   8.5\n",
            "2   Bruno   7.2\n",
            "3   Carla   9.0\n",
            "7    Gabi   7.9\n",
            "9    Iris   8.1\n",
            "11  Karen   8.7\n"
          ]
        }
      ],
      "source": [
        "filtro_nota = df_data1_indexed['nota'].between(7, 9, inclusive='both')\n",
        "df_filtrado_nota = df_data1_indexed[filtro_nota][['nome', 'nota']]\n",
        "print(df_filtrado_nota)"
      ]
    },
    {
      "cell_type": "markdown",
      "id": "5e0247b2",
      "metadata": {},
      "source": [
        "## 4) filtragem e condicionais\n"
      ]
    },
    {
      "cell_type": "markdown",
      "id": "13ac2463",
      "metadata": {},
      "source": [
        "31. filtre linhas onde `idade >= 18`."
      ]
    },
    {
      "cell_type": "code",
      "execution_count": 39,
      "id": "7b563cfb",
      "metadata": {},
      "outputs": [
        {
          "name": "stdout",
          "output_type": "stream",
          "text": [
            "      nome  idade\n",
            "id               \n",
            "2    Bruno     22\n",
            "3    Carla     35\n",
            "4    Diego     28\n",
            "5   Elaine     41\n",
            "6   Felipe     19\n",
            "7     Gabi     24\n",
            "8     Hugo     33\n",
            "9     Iris     26\n",
            "11   Karen     29\n",
            "12     Leo     45\n"
          ]
        }
      ],
      "source": [
        "df_maior_idade = df_data1_indexed[df_data1_indexed['idade'] >= 18]\n",
        "print(df_maior_idade[['nome', 'idade']])"
      ]
    },
    {
      "cell_type": "markdown",
      "id": "4af86704",
      "metadata": {},
      "source": [
        "32. crie um filtro composto: `idade > 18` **e** `cidade == 'SP'`.\n"
      ]
    },
    {
      "cell_type": "code",
      "execution_count": 40,
      "id": "8be51e41",
      "metadata": {},
      "outputs": [
        {
          "name": "stdout",
          "output_type": "stream",
          "text": [
            "      nome  idade cidade\n",
            "id                      \n",
            "4    Diego     28     SP\n",
            "6   Felipe     19     SP\n",
            "9     Iris     26     SP\n"
          ]
        }
      ],
      "source": [
        "filtro_composto = (df_data1_indexed['idade'] > 18) & (df_data1_indexed['cidade'] == 'SP')\n",
        "df_filtrado_composto = df_data1_indexed[filtro_composto]\n",
        "print(df_filtrado_composto[['nome', 'idade', 'cidade']])"
      ]
    },
    {
      "cell_type": "markdown",
      "id": "ff13248f",
      "metadata": {},
      "source": [
        "33. use `isin` para manter apenas linhas com `status` em `['ativo','pendente']`.\n"
      ]
    },
    {
      "cell_type": "code",
      "execution_count": 41,
      "id": "34983b59",
      "metadata": {},
      "outputs": [
        {
          "name": "stdout",
          "output_type": "stream",
          "text": [
            "      nome    status\n",
            "id                  \n",
            "1      Ana     ativo\n",
            "2    Bruno  pendente\n",
            "3    Carla     ativo\n",
            "5   Elaine     ativo\n",
            "6   Felipe  pendente\n",
            "7     Gabi     ativo\n",
            "9     Iris     ativo\n",
            "10    João  pendente\n",
            "11   Karen     ativo\n",
            "12     Leo     ativo\n"
          ]
        }
      ],
      "source": [
        "status_desejados = ['ativo', 'pendente']\n",
        "df_isin = df_data1_indexed[df_data1_indexed['status'].isin(status_desejados)]\n",
        "print(df_isin[['nome', 'status']])"
      ]
    },
    {
      "cell_type": "markdown",
      "id": "e13c0349",
      "metadata": {},
      "source": [
        "34. filtre linhas com valores nulos em `email`.\n"
      ]
    },
    {
      "cell_type": "code",
      "execution_count": 42,
      "id": "f3c0db12",
      "metadata": {},
      "outputs": [
        {
          "name": "stdout",
          "output_type": "stream",
          "text": [
            "     nome email\n",
            "id             \n",
            "4   Diego   NaN\n"
          ]
        }
      ],
      "source": [
        "df_email_nulo = df_data1_indexed[df_data1_indexed['email'].isna()]\n",
        "print(df_email_nulo[['nome', 'email']])"
      ]
    },
    {
      "cell_type": "markdown",
      "id": "1da01d0f",
      "metadata": {},
      "source": [
        "35. filtre linhas que **não** contêm `'@'` em `email` usando `str.contains` com `na=False`.\n"
      ]
    },
    {
      "cell_type": "code",
      "execution_count": 43,
      "id": "e6845c7c",
      "metadata": {},
      "outputs": [
        {
          "name": "stdout",
          "output_type": "stream",
          "text": [
            "     nome                email\n",
            "id                            \n",
            "4   Diego                  NaN\n",
            "9    Iris  iris[at]example.com\n"
          ]
        }
      ],
      "source": [
        "# O filtro '~' inverte o resultado de str.contains\n",
        "filtro_sem_arroba = ~df_data1_indexed['email'].astype(str).str.contains('@', na=False)\n",
        "df_sem_arroba = df_data1_indexed[filtro_sem_arroba]\n",
        "print(df_sem_arroba[['nome', 'email']])"
      ]
    },
    {
      "cell_type": "markdown",
      "id": "160e8495",
      "metadata": {},
      "source": [
        "36. crie uma coluna `faixa` com `'adulto'` se `idade>=18`, senão `'menor'` (Dica: tente usar `np.where`).\n"
      ]
    },
    {
      "cell_type": "code",
      "execution_count": 44,
      "id": "4a2ae0bb",
      "metadata": {},
      "outputs": [
        {
          "name": "stdout",
          "output_type": "stream",
          "text": [
            "      nome  idade   faixa\n",
            "id                       \n",
            "1      Ana     17   menor\n",
            "2    Bruno     22  adulto\n",
            "3    Carla     35  adulto\n",
            "4    Diego     28  adulto\n",
            "5   Elaine     41  adulto\n",
            "6   Felipe     19  adulto\n",
            "7     Gabi     24  adulto\n",
            "8     Hugo     33  adulto\n",
            "9     Iris     26  adulto\n",
            "10    João     16   menor\n",
            "11   Karen     29  adulto\n",
            "12     Leo     45  adulto\n"
          ]
        }
      ],
      "source": [
        "df_data1_indexed['faixa'] = np.where(df_data1_indexed['idade'] >= 18, 'adulto', 'menor')\n",
        "print(df_data1_indexed[['nome', 'idade', 'faixa']])"
      ]
    },
    {
      "cell_type": "markdown",
      "id": "c4f4ad70",
      "metadata": {},
      "source": [
        "37. aplique `query` para `salario > 5000 and departamento == \"TI\"`.\n"
      ]
    },
    {
      "cell_type": "code",
      "execution_count": 45,
      "id": "a4d8e2c8",
      "metadata": {},
      "outputs": [
        {
          "name": "stdout",
          "output_type": "stream",
          "text": [
            "     nome  salario departamento\n",
            "id                             \n",
            "3   Carla     7000           TI\n",
            "11  Karen     5400           TI\n"
          ]
        }
      ],
      "source": [
        "df_query = df_data1_indexed.query('salario > 5000 and departamento == \"TI\"')\n",
        "print(df_query[['nome', 'salario', 'departamento']])"
      ]
    },
    {
      "cell_type": "markdown",
      "id": "a0650aaa",
      "metadata": {},
      "source": [
        "38. recorte valores de `nota` para o intervalo 0–10 com `clip`.\n"
      ]
    },
    {
      "cell_type": "code",
      "execution_count": 46,
      "id": "9b08803b",
      "metadata": {},
      "outputs": [
        {
          "name": "stdout",
          "output_type": "stream",
          "text": [
            "      nome  nota  nota_clipped\n",
            "id                            \n",
            "1      Ana   8.5           8.5\n",
            "2    Bruno   7.2           7.2\n",
            "3    Carla   9.0           9.0\n",
            "4    Diego   6.1           6.1\n",
            "5   Elaine   9.3           9.3\n",
            "6   Felipe   5.4           5.4\n",
            "7     Gabi   7.9           7.9\n",
            "8     Hugo   4.8           4.8\n",
            "9     Iris   8.1           8.1\n",
            "10    João   5.9           5.9\n",
            "11   Karen   8.7           8.7\n",
            "12     Leo   9.8           9.8\n"
          ]
        }
      ],
      "source": [
        "df_data1_indexed['nota_clipped'] = df_data1_indexed['nota'].clip(lower=0, upper=10)\n",
        "print(df_data1_indexed[['nome', 'nota', 'nota_clipped']])"
      ]
    },
    {
      "cell_type": "markdown",
      "id": "1e854126",
      "metadata": {},
      "source": [
        "39. remova outliers de `preco` usando limite IQR simples.\n"
      ]
    },
    {
      "cell_type": "code",
      "execution_count": 47,
      "id": "661d5b86",
      "metadata": {},
      "outputs": [
        {
          "name": "stdout",
          "output_type": "stream",
          "text": [
            "Limite Superior (Outlier): 182.0625\n",
            "DataFrame com e sem outliers de preco:\n",
            "       nome  preco\n",
            "id               \n",
            "1      Ana   49.9\n",
            "2    Bruno   29.5\n",
            "3    Carla   99.0\n",
            "4    Diego   15.0\n",
            "5   Elaine  150.0\n",
            "6   Felipe   12.0\n",
            "7     Gabi   25.0\n",
            "8     Hugo    0.0\n",
            "9     Iris   75.5\n",
            "10    João    9.5\n",
            "11   Karen   55.0\n",
            "12     Leo  200.0\n",
            "\n",
            "DataFrame SEM outliers de preco:\n",
            "       nome  preco\n",
            "id               \n",
            "1      Ana   49.9\n",
            "2    Bruno   29.5\n",
            "3    Carla   99.0\n",
            "4    Diego   15.0\n",
            "5   Elaine  150.0\n",
            "6   Felipe   12.0\n",
            "7     Gabi   25.0\n",
            "8     Hugo    0.0\n",
            "9     Iris   75.5\n",
            "10    João    9.5\n",
            "11   Karen   55.0\n"
          ]
        }
      ],
      "source": [
        "Q1 = df_data1_indexed['preco'].quantile(0.25)\n",
        "Q3 = df_data1_indexed['preco'].quantile(0.75)\n",
        "IQR = Q3 - Q1\n",
        "\n",
        "limite_superior = Q3 + 1.5 * IQR\n",
        "limite_inferior = Q1 - 1.5 * IQR\n",
        "\n",
        "df_sem_outliers_preco = df_data1_indexed[ (df_data1_indexed['preco'] >= limite_inferior) & (df_data1_indexed['preco'] <= limite_superior) ]\n",
        "\n",
        "print(f\"Limite Superior (Outlier): {limite_superior}\")\n",
        "print(\"DataFrame com e sem outliers de preco:\\n\", df_data1_indexed[['nome', 'preco']])\n",
        "print(\"\\nDataFrame SEM outliers de preco:\\n\", df_sem_outliers_preco[['nome', 'preco']])"
      ]
    },
    {
      "cell_type": "markdown",
      "id": "70b4834b",
      "metadata": {},
      "source": [
        "40. substitua valores negativos por `NaN` em `saldo`."
      ]
    },
    {
      "cell_type": "code",
      "execution_count": null,
      "id": "ba8d0541",
      "metadata": {},
      "outputs": [
        {
          "name": "stdout",
          "output_type": "stream",
          "text": [
            "     nome   saldo  saldo_tratado\n",
            "0     Ana     NaN            NaN\n",
            "1     Ana  1000.0         1000.0\n",
            "2     Ana   -50.0            NaN\n",
            "3     Ana     NaN            NaN\n",
            "4     Ana     NaN            NaN\n",
            "5     Ana   500.0          500.0\n",
            "6   Bruno     0.0            0.0\n",
            "7   Bruno   200.0          200.0\n",
            "8   Bruno     NaN            NaN\n",
            "9   Bruno   300.0          300.0\n",
            "10  Bruno     NaN            NaN\n",
            "11  Bruno   400.0          400.0\n"
          ]
        }
      ],
      "source": [
        "df_2 = pd.read_csv(\"../data/data2.csv\")\n",
        "\n",
        "df_2['saldo_tratado'] = df_2['saldo'].mask(df_2['saldo'] < 0, np.nan)\n",
        "print(df_2[['nome', 'saldo', 'saldo_tratado']])"
      ]
    },
    {
      "cell_type": "markdown",
      "id": "37f05d5b",
      "metadata": {},
      "source": [
        "## 5) dados faltantes (use data2.csv)"
      ]
    },
    {
      "cell_type": "markdown",
      "id": "a0832162",
      "metadata": {},
      "source": [
        "41. conte `NaN` por coluna com `isna().sum()`."
      ]
    },
    {
      "cell_type": "code",
      "execution_count": 52,
      "id": "4bf82b72",
      "metadata": {},
      "outputs": [
        {
          "name": "stdout",
          "output_type": "stream",
          "text": [
            "cliente_id         0\n",
            "data               1\n",
            "nome               0\n",
            "cidade             2\n",
            "cidade_cobranca    3\n",
            "email              6\n",
            "status             0\n",
            "salario            4\n",
            "valor              3\n",
            "preco              4\n",
            "nota               4\n",
            "saldo              5\n",
            "saldo_tratado      6\n",
            "dtype: int64\n"
          ]
        }
      ],
      "source": [
        "nan_counts = df_2.isna().sum()\n",
        "print(nan_counts)"
      ]
    },
    {
      "cell_type": "markdown",
      "id": "60769a49",
      "metadata": {},
      "source": [
        "42. remova linhas com qualquer `NaN` (`dropna`)."
      ]
    },
    {
      "cell_type": "code",
      "execution_count": 53,
      "id": "f60316bf",
      "metadata": {},
      "outputs": [
        {
          "name": "stdout",
          "output_type": "stream",
          "text": [
            "   cliente_id        data   nome cidade cidade_cobranca              email  \\\n",
            "6         202  2025-01-01  Bruno     RJ              RJ  bruno@example.com   \n",
            "\n",
            "  status  salario  valor  preco  nota  saldo  saldo_tratado  \n",
            "6  ativo   5200.0   80.0   29.5   7.2    0.0            0.0  \n"
          ]
        }
      ],
      "source": [
        "df_dropna = df_2.dropna()\n",
        "print(df_dropna)"
      ]
    },
    {
      "cell_type": "markdown",
      "id": "da625186",
      "metadata": {},
      "source": [
        "43. preencha `NaN` de uma coluna numérica com a média."
      ]
    },
    {
      "cell_type": "code",
      "execution_count": 54,
      "id": "4f22966d",
      "metadata": {},
      "outputs": [
        {
          "name": "stdout",
          "output_type": "stream",
          "text": [
            "Média de Valor: 120.0\n",
            "    valor  valor_fill_mean\n",
            "0   120.0            120.0\n",
            "1   130.0            130.0\n",
            "2     NaN            120.0\n",
            "3   140.0            140.0\n",
            "4   150.0            150.0\n",
            "5   160.0            160.0\n",
            "6    80.0             80.0\n",
            "7    90.0             90.0\n",
            "8   100.0            100.0\n",
            "9     NaN            120.0\n",
            "10  110.0            110.0\n",
            "11    NaN            120.0\n"
          ]
        }
      ],
      "source": [
        "media_valor = df_2['valor'].mean()\n",
        "df_2['valor_fill_mean'] = df_2['valor'].fillna(media_valor)\n",
        "print(\"Média de Valor:\", media_valor)\n",
        "print(df_2[['valor', 'valor_fill_mean']])"
      ]
    },
    {
      "cell_type": "markdown",
      "id": "08f46fe4",
      "metadata": {},
      "source": [
        "44. preencha `NaN` de uma coluna categórica com `'desconhecido'`."
      ]
    },
    {
      "cell_type": "code",
      "execution_count": 55,
      "id": "717e91a7",
      "metadata": {},
      "outputs": [
        {
          "name": "stdout",
          "output_type": "stream",
          "text": [
            "                email         email_fill\n",
            "0     ana@example.com    ana@example.com\n",
            "1                 NaN       desconhecido\n",
            "2                 NaN       desconhecido\n",
            "3                 NaN       desconhecido\n",
            "4    ana @example.com   ana @example.com\n",
            "5     ana@example.com    ana@example.com\n",
            "6   bruno@example.com  bruno@example.com\n",
            "7   bruno@example.com  bruno@example.com\n",
            "8                 NaN       desconhecido\n",
            "9                 NaN       desconhecido\n",
            "10  bruno@example.com  bruno@example.com\n",
            "11                NaN       desconhecido\n"
          ]
        }
      ],
      "source": [
        "df_2['email_fill'] = df_2['email'].fillna('desconhecido')\n",
        "print(df_2[['email', 'email_fill']])"
      ]
    },
    {
      "cell_type": "markdown",
      "id": "a7a66d08",
      "metadata": {},
      "source": [
        "45. preencha os valores ausentes de preco com a mediana por categoria (use `groupby('categoria')['preco'].transform('median')`)."
      ]
    },
    {
      "cell_type": "code",
      "execution_count": 56,
      "id": "5574f42d",
      "metadata": {},
      "outputs": [
        {
          "name": "stdout",
          "output_type": "stream",
          "text": [
            "     nome  preco  preco_fill_group\n",
            "0     Ana   49.9             49.90\n",
            "1     Ana    NaN             50.75\n",
            "2     Ana   51.2             51.20\n",
            "3     Ana   50.3             50.30\n",
            "4     Ana    NaN             50.75\n",
            "5     Ana   52.0             52.00\n",
            "6   Bruno   29.5             29.50\n",
            "7   Bruno   30.1             30.10\n",
            "8   Bruno    NaN             30.55\n",
            "9   Bruno   31.0             31.00\n",
            "10  Bruno   32.5             32.50\n",
            "11  Bruno    NaN             30.55\n"
          ]
        }
      ],
      "source": [
        "# Calculando a mediana por nome e preenchendo os NaNs na coluna 'preco'\n",
        "df_2['preco_fill_group'] = df_2['preco'].fillna(\n",
        "    df_2.groupby('nome')['preco'].transform('median')\n",
        ")\n",
        "print(df_2[['nome', 'preco', 'preco_fill_group']])"
      ]
    },
    {
      "cell_type": "markdown",
      "id": "4cc3324b",
      "metadata": {},
      "source": [
        "46. preencha valores ausentes de `preco` usando `interpolate()`."
      ]
    },
    {
      "cell_type": "code",
      "execution_count": 57,
      "id": "5ebfb1da",
      "metadata": {},
      "outputs": [
        {
          "name": "stdout",
          "output_type": "stream",
          "text": [
            "    preco  preco_interpolado\n",
            "0    49.9              49.90\n",
            "1     NaN              50.55\n",
            "2    51.2              51.20\n",
            "3    50.3              50.30\n",
            "4     NaN              51.15\n",
            "5    52.0              52.00\n",
            "6    29.5              29.50\n",
            "7    30.1              30.10\n",
            "8     NaN              30.55\n",
            "9    31.0              31.00\n",
            "10   32.5              32.50\n",
            "11    NaN              32.50\n"
          ]
        }
      ],
      "source": [
        "# Usando a coluna 'preco' original\n",
        "df_2['preco_interpolado'] = df_2['preco'].interpolate()\n",
        "print(df_2[['preco', 'preco_interpolado']])"
      ]
    },
    {
      "cell_type": "markdown",
      "id": "77ee1ccd",
      "metadata": {},
      "source": [
        "47. substitua strings vazias `''` por `NaN`."
      ]
    },
    {
      "cell_type": "code",
      "execution_count": 59,
      "id": "1b89215e",
      "metadata": {},
      "outputs": [
        {
          "name": "stdout",
          "output_type": "stream",
          "text": [
            "    cliente_id        data   nome cidade cidade_cobranca              email  \\\n",
            "0          101  2025-01-01    Ana     SP              SP    ana@example.com   \n",
            "1          101  2025-01-02    Ana    NaN              SP                NaN   \n",
            "2          101  2025-01-03    Ana     SP             NaN                NaN   \n",
            "3          101  2025-01-04    Ana     SP              SP                NaN   \n",
            "4          101  2025-01-05    Ana    NaN              SP   ana @example.com   \n",
            "5          101         NaN    Ana     SP              SP    ana@example.com   \n",
            "6          202  2025-01-01  Bruno     RJ              RJ  bruno@example.com   \n",
            "7          202  2025-01-02  Bruno     RJ             NaN  bruno@example.com   \n",
            "8          202  2025-01-03  Bruno     RJ              RJ                NaN   \n",
            "9          202  2025-01-04  Bruno     RJ              RJ                NaN   \n",
            "10         202  2025-01-05  Bruno     RJ              RJ  bruno@example.com   \n",
            "11         202  2025-01-06  Bruno     RJ             NaN                NaN   \n",
            "\n",
            "      status  salario  valor  preco  nota   saldo  saldo_tratado  \\\n",
            "0      ativo   4500.0  120.0   49.9   8.5     NaN            NaN   \n",
            "1   pendente      NaN  130.0    NaN   7.2  1000.0         1000.0   \n",
            "2      ativo   4700.0    NaN   51.2   NaN   -50.0            NaN   \n",
            "3    inativo   4800.0  140.0   50.3   9.0     NaN            NaN   \n",
            "4      ativo      NaN  150.0    NaN   6.1     NaN            NaN   \n",
            "5   pendente   5000.0  160.0   52.0   NaN   500.0          500.0   \n",
            "6      ativo   5200.0   80.0   29.5   7.2     0.0            0.0   \n",
            "7   pendente   5300.0   90.0   30.1   NaN   200.0          200.0   \n",
            "8    inativo      NaN  100.0    NaN   8.5     NaN            NaN   \n",
            "9      ativo   5100.0    NaN   31.0   5.0   300.0          300.0   \n",
            "10  pendente   5400.0  110.0   32.5   NaN     NaN            NaN   \n",
            "11     ativo      NaN    NaN    NaN   6.0   400.0          400.0   \n",
            "\n",
            "    valor_fill_mean         email_fill  preco_fill_group  preco_interpolado  \n",
            "0             120.0    ana@example.com             49.90              49.90  \n",
            "1             130.0       desconhecido             50.75              50.55  \n",
            "2             120.0       desconhecido             51.20              51.20  \n",
            "3             140.0       desconhecido             50.30              50.30  \n",
            "4             150.0   ana @example.com             50.75              51.15  \n",
            "5             160.0    ana@example.com             52.00              52.00  \n",
            "6              80.0  bruno@example.com             29.50              29.50  \n",
            "7              90.0  bruno@example.com             30.10              30.10  \n",
            "8             100.0       desconhecido             30.55              30.55  \n",
            "9             120.0       desconhecido             31.00              31.00  \n",
            "10            110.0  bruno@example.com             32.50              32.50  \n",
            "11            120.0       desconhecido             30.55              32.50  \n"
          ]
        }
      ],
      "source": [
        "df_data2_tratado = df_2.replace({\"\": np.nan})\n",
        "print(df_data2_tratado)"
      ]
    },
    {
      "cell_type": "markdown",
      "id": "926829ad",
      "metadata": {},
      "source": [
        "48. avalie o impacto de `dropna` no tamanho do DataFrame."
      ]
    },
    {
      "cell_type": "code",
      "execution_count": 60,
      "id": "7219e398",
      "metadata": {},
      "outputs": [
        {
          "name": "stdout",
          "output_type": "stream",
          "text": [
            "Tamanho original: 12 linhas\n",
            "Tamanho após dropna: 1 linhas\n",
            "Linhas removidas: 11\n"
          ]
        }
      ],
      "source": [
        "tamanho_original = len(df_2)\n",
        "tamanho_dropna = len(df_2.dropna())\n",
        "\n",
        "print(f\"Tamanho original: {tamanho_original} linhas\")\n",
        "print(f\"Tamanho após dropna: {tamanho_dropna} linhas\")\n",
        "print(f\"Linhas removidas: {tamanho_original - tamanho_dropna}\")"
      ]
    },
    {
      "cell_type": "markdown",
      "id": "b3a103fa",
      "metadata": {},
      "source": [
        "49. calcule a porcentagem de `NaN` de todo o DataFrame.\n"
      ]
    },
    {
      "cell_type": "code",
      "execution_count": 61,
      "id": "7adfc0c0",
      "metadata": {},
      "outputs": [
        {
          "name": "stdout",
          "output_type": "stream",
          "text": [
            "Percentual de NaN: 18.63%\n"
          ]
        }
      ],
      "source": [
        "total_celulas = df_2.size\n",
        "total_nan = df_2.isna().sum().sum()\n",
        "percentual_nan = (total_nan / total_celulas) * 100\n",
        "\n",
        "print(f\"Percentual de NaN: {percentual_nan:.2f}%\")"
      ]
    },
    {
      "cell_type": "markdown",
      "id": "a5286ca1",
      "metadata": {},
      "source": [
        "50. preencha `NaN` condicionais: se `cidade` é `NaN`, copie de `cidade_cobranca`."
      ]
    },
    {
      "cell_type": "code",
      "execution_count": 62,
      "id": "24bf131e",
      "metadata": {},
      "outputs": [
        {
          "name": "stdout",
          "output_type": "stream",
          "text": [
            "  cidade cidade_cobranca cidade_fill_cond\n",
            "0     SP              SP               SP\n",
            "1    NaN              SP               SP\n",
            "2     SP             NaN               SP\n",
            "3     SP              SP               SP\n",
            "4    NaN              SP               SP\n",
            "5     SP              SP               SP\n"
          ]
        }
      ],
      "source": [
        "df_2['cidade_fill_cond'] = df_2['cidade'].combine_first(df_2['cidade_cobranca'])\n",
        "\n",
        "print(df_2[['cidade', 'cidade_cobranca', 'cidade_fill_cond']].head(6))"
      ]
    },
    {
      "cell_type": "markdown",
      "id": "aca0b062",
      "metadata": {},
      "source": [
        "## 6) agregações & groupby (use data3.csv)"
      ]
    },
    {
      "cell_type": "markdown",
      "id": "23f8b983",
      "metadata": {},
      "source": [
        "51. calcule a média de `valor` por `categoria` (`groupby` + `mean`)."
      ]
    },
    {
      "cell_type": "code",
      "execution_count": 63,
      "id": "b5c56832",
      "metadata": {},
      "outputs": [
        {
          "name": "stdout",
          "output_type": "stream",
          "text": [
            "categoria\n",
            "A    368.582000\n",
            "B    142.948333\n",
            "C    175.377500\n",
            "Name: valor, dtype: float64\n"
          ]
        }
      ],
      "source": [
        "df_3 = pd.read_csv(\"../data/data3.csv\")\n",
        "\n",
        "media_por_categoria = df_3.groupby('categoria')['valor'].mean()\n",
        "print(media_por_categoria)"
      ]
    },
    {
      "cell_type": "markdown",
      "id": "6c3ca94e",
      "metadata": {},
      "source": [
        "52. conte linhas por `categoria` (use `size` ou `count`).\n"
      ]
    },
    {
      "cell_type": "code",
      "execution_count": 64,
      "id": "0bfd2c0b",
      "metadata": {},
      "outputs": [
        {
          "name": "stdout",
          "output_type": "stream",
          "text": [
            "categoria\n",
            "A    5\n",
            "B    6\n",
            "C    4\n",
            "dtype: int64\n"
          ]
        }
      ],
      "source": [
        "contagem_por_categoria = df_3.groupby('categoria').size()\n",
        "print(contagem_por_categoria)"
      ]
    },
    {
      "cell_type": "markdown",
      "id": "ce9b9351",
      "metadata": {},
      "source": [
        "53. obtenha o `sum`, `min`, `max` de `valor` por `categoria` numa única chamada (`agg`).\n"
      ]
    },
    {
      "cell_type": "code",
      "execution_count": 65,
      "id": "e0aebada",
      "metadata": {},
      "outputs": [
        {
          "name": "stdout",
          "output_type": "stream",
          "text": [
            "               sum     min     max\n",
            "categoria                         \n",
            "A          1842.91  110.95  481.71\n",
            "B           857.69   23.53  323.20\n",
            "C           701.51   41.03  354.74\n"
          ]
        }
      ],
      "source": [
        "agregacao_multipla = df_3.groupby('categoria')['valor'].agg(['sum', 'min', 'max'])\n",
        "print(agregacao_multipla)"
      ]
    },
    {
      "cell_type": "markdown",
      "id": "2a945271",
      "metadata": {},
      "source": [
        "54. Calcule a média ponderada usando a coluna `peso`."
      ]
    },
    {
      "cell_type": "code",
      "execution_count": 66,
      "id": "214b2afe",
      "metadata": {},
      "outputs": [
        {
          "name": "stdout",
          "output_type": "stream",
          "text": [
            "Média Ponderada de Valor: 214.02\n"
          ]
        }
      ],
      "source": [
        "media_ponderada = (df_3['valor'] * df_3['peso']).sum() / df_3['peso'].sum()\n",
        "print(f\"Média Ponderada de Valor: {media_ponderada:.2f}\")"
      ]
    },
    {
      "cell_type": "markdown",
      "id": "dbb5dc67",
      "metadata": {
        "vscode": {
          "languageId": "bat"
        }
      },
      "source": [
        "55. Destaque o `max` de pedido_total por cliente"
      ]
    },
    {
      "cell_type": "code",
      "execution_count": 67,
      "id": "9a1281ff",
      "metadata": {},
      "outputs": [
        {
          "name": "stdout",
          "output_type": "stream",
          "text": [
            "cliente\n",
            "Ana        278.37\n",
            "Bruno     1352.28\n",
            "Diego     1113.47\n",
            "Elaine     201.87\n",
            "Felipe     201.35\n",
            "Hugo       461.99\n",
            "Iris       818.65\n",
            "Name: pedido_total, dtype: float64\n"
          ]
        }
      ],
      "source": [
        "max_pedido_por_cliente = df_3.groupby('cliente')['pedido_total'].max()\n",
        "print(max_pedido_por_cliente)"
      ]
    },
    {
      "cell_type": "markdown",
      "id": "cfc4572b",
      "metadata": {},
      "source": [
        "56. crie percentuais: `valor` / soma do grupo."
      ]
    },
    {
      "cell_type": "code",
      "execution_count": 68,
      "id": "0d27cebd",
      "metadata": {},
      "outputs": [
        {
          "name": "stdout",
          "output_type": "stream",
          "text": [
            "   produto categoria   valor  valor_total_categoria  percentual_categoria\n",
            "0       P4         C  354.74                 701.51              0.505681\n",
            "1       P5         A  464.85                1842.91              0.252237\n",
            "2       P7         B  323.20                 857.69              0.376826\n",
            "3       P3         C   41.03                 701.51              0.058488\n",
            "4       P1         A  110.95                1842.91              0.060204\n",
            "5       P6         B  169.94                 857.69              0.198137\n",
            "6       P7         B   23.53                 857.69              0.027434\n",
            "7       P1         B   74.97                 857.69              0.087409\n",
            "8       P1         B  165.90                 857.69              0.193427\n",
            "9       P7         C  155.06                 701.51              0.221037\n",
            "10      P4         B  100.15                 857.69              0.116767\n",
            "11      P8         A  354.23                1842.91              0.192212\n",
            "12      P3         A  481.71                1842.91              0.261386\n",
            "13      P7         C  150.68                 701.51              0.214794\n",
            "14      P5         A  431.17                1842.91              0.233962\n"
          ]
        }
      ],
      "source": [
        "df_3['valor_total_categoria'] = df_3.groupby('categoria')['valor'].transform('sum')\n",
        "df_3['percentual_categoria'] = df_3['valor'] / df_3['valor_total_categoria']\n",
        "\n",
        "print(df_3[['produto', 'categoria', 'valor', 'valor_total_categoria', 'percentual_categoria']])"
      ]
    },
    {
      "cell_type": "markdown",
      "id": "4333e961",
      "metadata": {},
      "source": [
        "57. conte `nunique` de `produto` por `cliente`."
      ]
    },
    {
      "cell_type": "code",
      "execution_count": 69,
      "id": "6513048e",
      "metadata": {},
      "outputs": [
        {
          "name": "stdout",
          "output_type": "stream",
          "text": [
            "cliente\n",
            "Ana       1\n",
            "Bruno     5\n",
            "Diego     1\n",
            "Elaine    3\n",
            "Felipe    1\n",
            "Hugo      1\n",
            "Iris      2\n",
            "Name: produto, dtype: int64\n"
          ]
        }
      ],
      "source": [
        "nunique_produto_por_cliente = df_3.groupby('cliente')['produto'].nunique()\n",
        "print(nunique_produto_por_cliente)"
      ]
    },
    {
      "cell_type": "markdown",
      "id": "00cc8612",
      "metadata": {},
      "source": [
        "58. calcule desvio-padrão de `nota` por turma."
      ]
    },
    {
      "cell_type": "code",
      "execution_count": 70,
      "id": "a811a356",
      "metadata": {},
      "outputs": [
        {
          "name": "stdout",
          "output_type": "stream",
          "text": [
            "turma\n",
            "T1    1.646208\n",
            "T2    0.521536\n",
            "T3    1.051982\n",
            "Name: nota, dtype: float64\n"
          ]
        }
      ],
      "source": [
        "std_nota_por_turma = df_3.groupby('turma')['nota'].std()\n",
        "print(std_nota_por_turma)"
      ]
    },
    {
      "cell_type": "markdown",
      "id": "5b7aba15",
      "metadata": {},
      "source": [
        "59. calcule a média de valor por categoria usando `groupby('categoria')['valor'].mean()`."
      ]
    },
    {
      "cell_type": "code",
      "execution_count": 71,
      "id": "4d33722a",
      "metadata": {},
      "outputs": [
        {
          "name": "stdout",
          "output_type": "stream",
          "text": [
            "categoria\n",
            "A    368.582000\n",
            "B    142.948333\n",
            "C    175.377500\n",
            "Name: valor, dtype: float64\n"
          ]
        }
      ],
      "source": [
        "media_por_categoria_59 = df_3.groupby('categoria')['valor'].mean()\n",
        "print(media_por_categoria_59)"
      ]
    },
    {
      "cell_type": "markdown",
      "id": "937b00ee",
      "metadata": {},
      "source": [
        "60. conte quantas linhas há em cada categoria com groupby('categoria').size() e ordene do maior para o menor com `.sort_values(ascending=False)`."
      ]
    },
    {
      "cell_type": "code",
      "execution_count": 72,
      "id": "3517004e",
      "metadata": {},
      "outputs": [
        {
          "name": "stdout",
          "output_type": "stream",
          "text": [
            "categoria\n",
            "B    6\n",
            "A    5\n",
            "C    4\n",
            "dtype: int64\n"
          ]
        }
      ],
      "source": [
        "contagem_ordenada = df_3.groupby('categoria').size().sort_values(ascending=False)\n",
        "print(contagem_ordenada)"
      ]
    }
  ],
  "metadata": {
    "kernelspec": {
      "display_name": ".venv",
      "language": "python",
      "name": "python3"
    },
    "language_info": {
      "codemirror_mode": {
        "name": "ipython",
        "version": 3
      },
      "file_extension": ".py",
      "mimetype": "text/x-python",
      "name": "python",
      "nbconvert_exporter": "python",
      "pygments_lexer": "ipython3",
      "version": "3.11.9"
    }
  },
  "nbformat": 4,
  "nbformat_minor": 5
}
